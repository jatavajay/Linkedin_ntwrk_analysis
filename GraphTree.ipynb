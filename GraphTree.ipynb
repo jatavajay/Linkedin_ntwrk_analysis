{
 "cells": [
  {
   "cell_type": "markdown",
   "id": "bdea0036",
   "metadata": {},
   "source": [
    "GRAPH: A graph is a collection of nodes (vertices) connected by edges. The set of vertices of a graph must be non-empty, but the set of edges can be empty."
   ]
  },
  {
   "cell_type": "markdown",
   "id": "aa44ce77",
   "metadata": {},
   "source": [
    "There are total three ways of representing a graph.\n",
    "1. Adjacency Matrix\n",
    "2. Adjacency List\n",
    "3. Edge List"
   ]
  },
  {
   "cell_type": "code",
   "execution_count": 133,
   "id": "1ceb8b29",
   "metadata": {},
   "outputs": [
    {
     "data": {
      "text/plain": [
       "{'delhi': ['haryana', 'up'],\n",
       " 'haryana': ['delhi', 'punjab'],\n",
       " 'punjab': ['haryana'],\n",
       " 'up': ['delhi', 'mp'],\n",
       " 'mp': ['up']}"
      ]
     },
     "execution_count": 133,
     "metadata": {},
     "output_type": "execute_result"
    }
   ],
   "source": [
    "# Adjacency List\n",
    "Adjacency_list={\n",
    "'delhi':['haryana','up'],\n",
    "'haryana':['delhi','punjab'],\n",
    "'punjab':['haryana'],\n",
    "'up':['delhi','mp'],\n",
    "'mp':['up']}\n",
    "Adjacency_list"
   ]
  },
  {
   "cell_type": "code",
   "execution_count": 134,
   "id": "d2630bb2",
   "metadata": {},
   "outputs": [
    {
     "data": {
      "text/html": [
       "<div>\n",
       "<style scoped>\n",
       "    .dataframe tbody tr th:only-of-type {\n",
       "        vertical-align: middle;\n",
       "    }\n",
       "\n",
       "    .dataframe tbody tr th {\n",
       "        vertical-align: top;\n",
       "    }\n",
       "\n",
       "    .dataframe thead th {\n",
       "        text-align: right;\n",
       "    }\n",
       "</style>\n",
       "<table border=\"1\" class=\"dataframe\">\n",
       "  <thead>\n",
       "    <tr style=\"text-align: right;\">\n",
       "      <th></th>\n",
       "      <th>delhi</th>\n",
       "      <th>haryana</th>\n",
       "      <th>punjab</th>\n",
       "      <th>up</th>\n",
       "      <th>mp</th>\n",
       "    </tr>\n",
       "  </thead>\n",
       "  <tbody>\n",
       "    <tr>\n",
       "      <th>delhi</th>\n",
       "      <td>0</td>\n",
       "      <td>1</td>\n",
       "      <td>0</td>\n",
       "      <td>1</td>\n",
       "      <td>0</td>\n",
       "    </tr>\n",
       "    <tr>\n",
       "      <th>haryana</th>\n",
       "      <td>1</td>\n",
       "      <td>0</td>\n",
       "      <td>1</td>\n",
       "      <td>0</td>\n",
       "      <td>0</td>\n",
       "    </tr>\n",
       "    <tr>\n",
       "      <th>punjab</th>\n",
       "      <td>0</td>\n",
       "      <td>1</td>\n",
       "      <td>0</td>\n",
       "      <td>0</td>\n",
       "      <td>0</td>\n",
       "    </tr>\n",
       "    <tr>\n",
       "      <th>up</th>\n",
       "      <td>1</td>\n",
       "      <td>0</td>\n",
       "      <td>0</td>\n",
       "      <td>0</td>\n",
       "      <td>1</td>\n",
       "    </tr>\n",
       "    <tr>\n",
       "      <th>mp</th>\n",
       "      <td>0</td>\n",
       "      <td>0</td>\n",
       "      <td>0</td>\n",
       "      <td>1</td>\n",
       "      <td>0</td>\n",
       "    </tr>\n",
       "  </tbody>\n",
       "</table>\n",
       "</div>"
      ],
      "text/plain": [
       "         delhi  haryana  punjab  up  mp\n",
       "delhi        0        1       0   1   0\n",
       "haryana      1        0       1   0   0\n",
       "punjab       0        1       0   0   0\n",
       "up           1        0       0   0   1\n",
       "mp           0        0       0   1   0"
      ]
     },
     "execution_count": 134,
     "metadata": {},
     "output_type": "execute_result"
    }
   ],
   "source": [
    "# Adjacency Matrix\n",
    "import pandas as pd\n",
    "import numpy as np\n",
    "list=[\n",
    "                 [0,1,0,1,0],\n",
    "                 [1,0,1,0,0],\n",
    "                 [0,1,0,0,0],\n",
    "                 [1,0,0,0,1],\n",
    "                 [0,0,0,1,0]]\n",
    "Adjacency_matrix=pd.DataFrame(np.array(list))\n",
    "Adjacency_matrix.rename({0:'delhi',1:'haryana',2:'punjab',3:'up',4:'mp'},axis=0,inplace=True)\n",
    "Adjacency_matrix.rename({0:'delhi',1:'haryana',2:'punjab',3:'up',4:'mp'},axis=1,inplace=True)\n",
    "Adjacency_matrix"
   ]
  },
  {
   "cell_type": "code",
   "execution_count": 135,
   "id": "5aaae817",
   "metadata": {},
   "outputs": [
    {
     "name": "stdout",
     "output_type": "stream",
     "text": [
      "[('delhi', 'up'), ('delhi', 'haryana'), ('up', 'mp'), ('haryana', 'punjab')]\n"
     ]
    }
   ],
   "source": [
    "# Edge List\n",
    "Edge_list=[('delhi','up'),('delhi','haryana'),('up','mp'),('haryana','punjab')]\n",
    "print(Edge_list)"
   ]
  },
  {
   "cell_type": "markdown",
   "id": "2396287b",
   "metadata": {},
   "source": [
    "1. Write a code to find the degree of each vertex, and store it in a dictionary. Sort the keys of the dictionary by the degree stored in the values."
   ]
  },
  {
   "cell_type": "code",
   "execution_count": 136,
   "id": "033fe3db",
   "metadata": {},
   "outputs": [
    {
     "name": "stdout",
     "output_type": "stream",
     "text": [
      "[('delhi', 2), ('haryana', 2), ('punjab', 1), ('up', 2), ('mp', 1)]\n"
     ]
    },
    {
     "data": {
      "text/plain": [
       "{'punjab': 1, 'mp': 1, 'delhi': 2, 'up': 2, 'haryana': 2}"
      ]
     },
     "execution_count": 136,
     "metadata": {},
     "output_type": "execute_result"
    }
   ],
   "source": [
    "# Function to calculate the degree of each node in the graph and return a sorted dictionary based on degree\n",
    "def node_degree(dict):\n",
    "    dict_node = {}     # Dictionary to store the degree (number of connections) for each node\n",
    "    sorted_dict = {}   # Final dictionary to store nodes sorted by their degree\n",
    "\n",
    "    # Loop over each node in the graph\n",
    "    for i in dict.keys():\n",
    "        count = 0\n",
    "        # Count how many neighbors each node has (i.e., degree)\n",
    "        for j in dict[i]:\n",
    "            count += 1\n",
    "        dict_node[i] = count  # Store the degree in dict_node\n",
    "\n",
    "    # Convert the dict_node into a list of tuples for sorting\n",
    "    keylst = []\n",
    "    for key in dict_node:\n",
    "        keylst.append((key, dict_node[key]))  # Each element is (node, degree)\n",
    "\n",
    "    print(keylst)  # Print list of node-degree pairs before sorting\n",
    "\n",
    "    # Sort the list using bubble sort based on the degree (2nd item of tuple)\n",
    "    for i in range(len(keylst)):\n",
    "        for j in range(i + 1, len(keylst)):\n",
    "            if keylst[i][1] > keylst[j][1]:  # Compare degrees\n",
    "                keylst[i], keylst[j] = keylst[j], keylst[i]  # Swap if out of order\n",
    "\n",
    "    # Convert the sorted list of tuples back to a dictionary\n",
    "    for i in keylst:\n",
    "        sorted_dict[i[0]] = i[1]  # Add node and its degree to sorted_dict\n",
    "\n",
    "    return sorted_dict  # Return the degree-sorted dictionary\n",
    "\n",
    "# Example usage\n",
    "node_degree(Adjacency_list)\n"
   ]
  },
  {
   "cell_type": "markdown",
   "id": "38a9e888",
   "metadata": {},
   "source": [
    "2.Write a code to inter-convert the 3 graph representations we have learnt."
   ]
  },
  {
   "cell_type": "code",
   "execution_count": 137,
   "id": "dcd67616",
   "metadata": {},
   "outputs": [
    {
     "name": "stdout",
     "output_type": "stream",
     "text": [
      "[('haryana', 'delhi'), ('punjab', 'haryana'), ('up', 'delhi'), ('mp', 'up')]\n"
     ]
    },
    {
     "data": {
      "text/html": [
       "<div>\n",
       "<style scoped>\n",
       "    .dataframe tbody tr th:only-of-type {\n",
       "        vertical-align: middle;\n",
       "    }\n",
       "\n",
       "    .dataframe tbody tr th {\n",
       "        vertical-align: top;\n",
       "    }\n",
       "\n",
       "    .dataframe thead th {\n",
       "        text-align: right;\n",
       "    }\n",
       "</style>\n",
       "<table border=\"1\" class=\"dataframe\">\n",
       "  <thead>\n",
       "    <tr style=\"text-align: right;\">\n",
       "      <th></th>\n",
       "      <th>delhi</th>\n",
       "      <th>haryana</th>\n",
       "      <th>punjab</th>\n",
       "      <th>up</th>\n",
       "      <th>mp</th>\n",
       "    </tr>\n",
       "  </thead>\n",
       "  <tbody>\n",
       "    <tr>\n",
       "      <th>delhi</th>\n",
       "      <td>0</td>\n",
       "      <td>1</td>\n",
       "      <td>0</td>\n",
       "      <td>1</td>\n",
       "      <td>0</td>\n",
       "    </tr>\n",
       "    <tr>\n",
       "      <th>haryana</th>\n",
       "      <td>1</td>\n",
       "      <td>0</td>\n",
       "      <td>1</td>\n",
       "      <td>0</td>\n",
       "      <td>0</td>\n",
       "    </tr>\n",
       "    <tr>\n",
       "      <th>punjab</th>\n",
       "      <td>0</td>\n",
       "      <td>1</td>\n",
       "      <td>0</td>\n",
       "      <td>0</td>\n",
       "      <td>0</td>\n",
       "    </tr>\n",
       "    <tr>\n",
       "      <th>up</th>\n",
       "      <td>1</td>\n",
       "      <td>0</td>\n",
       "      <td>0</td>\n",
       "      <td>0</td>\n",
       "      <td>1</td>\n",
       "    </tr>\n",
       "    <tr>\n",
       "      <th>mp</th>\n",
       "      <td>0</td>\n",
       "      <td>0</td>\n",
       "      <td>0</td>\n",
       "      <td>1</td>\n",
       "      <td>0</td>\n",
       "    </tr>\n",
       "  </tbody>\n",
       "</table>\n",
       "</div>"
      ],
      "text/plain": [
       "         delhi  haryana  punjab  up  mp\n",
       "delhi        0        1       0   1   0\n",
       "haryana      1        0       1   0   0\n",
       "punjab       0        1       0   0   0\n",
       "up           1        0       0   0   1\n",
       "mp           0        0       0   1   0"
      ]
     },
     "execution_count": 137,
     "metadata": {},
     "output_type": "execute_result"
    }
   ],
   "source": [
    "# Function to convert an adjacency list to an adjacency matrix (Pandas DataFrame format)\n",
    "def list_to_matrix(adj_dict):\n",
    "    keylst = []      # To store all the keys (nodes) of the adjacency list\n",
    "    lst3 = []        # This will store the adjacency matrix as a list of lists\n",
    "\n",
    "    # Populate keylst with all the keys from the adjacency dictionary\n",
    "    for key in adj_dict.keys():\n",
    "        keylst.append(key)\n",
    "\n",
    "    # Construct the adjacency matrix\n",
    "    for key in keylst:\n",
    "        lst2 = []  # Temporary list to hold one row of the matrix\n",
    "        for j in keylst:\n",
    "            # Check if node j is adjacent to node key\n",
    "            if j in adj_dict[key]:\n",
    "                lst2.append(1)  # 1 indicates an edge between key and j\n",
    "            else:\n",
    "                lst2.append(0)  # 0 indicates no edge\n",
    "        lst3.append(lst2.copy())  # Append the row to the matrix\n",
    "\n",
    "    # Convert the matrix list to a DataFrame for a cleaner look\n",
    "    import pandas as pd\n",
    "    import numpy as np\n",
    "    data = pd.DataFrame(np.array(lst3))\n",
    "\n",
    "    # Optionally rename the rows and columns with meaningful labels\n",
    "    # Assumes the keys are in order: 'delhi', 'haryana', 'punjab', 'up', 'mp'\n",
    "    data.rename({0:'delhi', 1:'haryana', 2:'punjab', 3:'up', 4:'mp'}, axis=0, inplace=True)\n",
    "    data.rename({0:'delhi', 1:'haryana', 2:'punjab', 3:'up', 4:'mp'}, axis=1, inplace=True)\n",
    "\n",
    "    return data  # Return the adjacency matrix\n",
    "\n",
    "# Function to convert an adjacency list to an edge list\n",
    "def list_to_edgelst(adj_dict):\n",
    "    edge_list = []  # To store the resulting edge list\n",
    "    keylst = []     # To track nodes that have already been processed\n",
    "\n",
    "    # Loop through each node in the adjacency list\n",
    "    for key in adj_dict.keys():\n",
    "        keylst.append(key)  # Mark current node as seen\n",
    "        for value in adj_dict[key]:\n",
    "            # Only add edge if it hasn't been added before (avoids duplicates for undirected graphs)\n",
    "            if value in keylst:\n",
    "                edge_list.append((key, value))  # Append the edge (node pair)\n",
    "\n",
    "    return edge_list  # Return the list of edges\n",
    "\n",
    "# Example usage\n",
    "print(list_to_edgelst(Adjacency_list))  # Call edge list function and print the result\n",
    "list_to_matrix(Adjacency_list)          # Call adjacency matrix function (matrix is returned as DataFrame)"
   ]
  },
  {
   "cell_type": "markdown",
   "id": "a204f869",
   "metadata": {},
   "source": [
    "3. Given a graph and two vertices, check if they are adjacent. "
   ]
  },
  {
   "cell_type": "code",
   "execution_count": 138,
   "id": "f3011e74",
   "metadata": {},
   "outputs": [
    {
     "name": "stdout",
     "output_type": "stream",
     "text": [
      "Adjacent\n"
     ]
    }
   ],
   "source": [
    "def Adjacent(n1, n2):  # Function to check if two nodes are connected (adjacent)\n",
    "    if (n1, n2) in Edge_list or (n2, n1) in Edge_list:  # Check if edge exists in either direction (undirected)\n",
    "        return \"Adjacent\"  # If found, return they are adjacent\n",
    "    else:\n",
    "        return \"non-adjacent\"  # If not found, return they are not adjacent\n",
    "print(Adjacent('delhi', 'haryana'))  "
   ]
  },
  {
   "cell_type": "markdown",
   "id": "8cc733d1",
   "metadata": {},
   "source": [
    "4. Check if a graph is complete."
   ]
  },
  {
   "cell_type": "code",
   "execution_count": 149,
   "id": "b0c37a13",
   "metadata": {},
   "outputs": [
    {
     "name": "stdout",
     "output_type": "stream",
     "text": [
      "Not-Complete\n",
      "complete\n"
     ]
    }
   ],
   "source": [
    "def Complete_graph(Adjcency_list):\n",
    "    key_lst = []  # Create an empty list to store all the keys (nodes) in the graph    \n",
    "    # Loop through all the keys in the adjacency list and add them to key_lst\n",
    "    for key in Adjcency_list.keys():\n",
    "        key_lst.append(key)\n",
    "    \n",
    "    # Loop through all the keys again to check if each node's adjacency list is complete\n",
    "    for key in Adjcency_list.keys():\n",
    "        # Create a list of all other nodes except the current one\n",
    "        others = [node for node in key_lst if node != key]\n",
    "        \n",
    "        # Check if the adjacency list of the current node is equal to the remaining keys (nodes)\n",
    "        if Adjcency_list[key] != others:\n",
    "            return \"Not-Complete\"  # If the adjacency list doesn't match, the graph is not complete\n",
    "        \n",
    "    # If all nodes have an equal adjacency list, return \"complete\"\n",
    "    return \"complete\"  # Return \"complete\" if the graph is a complete graph\n",
    "print(Complete_graph(Adjacency_list))\n",
    "print(Complete_graph({\n",
    "    \"delhi\": [\"haryana\", \"punjab\", \"up\", \"mp\"],\n",
    "    \"haryana\": [\"delhi\", \"punjab\", \"up\", \"mp\"],\n",
    "    \"punjab\": [\"delhi\", \"haryana\", \"up\", \"mp\"],\n",
    "    \"up\": [\"delhi\", \"haryana\", \"punjab\", \"mp\"],\n",
    "    \"mp\": [\"delhi\", \"haryana\", \"punjab\", \"up\"]\n",
    "}))"
   ]
  },
  {
   "cell_type": "markdown",
   "id": "cba3a5c0",
   "metadata": {},
   "source": [
    "5. Check if a graph is connected."
   ]
  },
  {
   "cell_type": "code",
   "execution_count": 140,
   "id": "9497d96b",
   "metadata": {},
   "outputs": [
    {
     "name": "stdout",
     "output_type": "stream",
     "text": [
      "connected\n",
      "not-connected\n"
     ]
    }
   ],
   "source": [
    "def connected_graph(dict):\n",
    "    # Loop through all the nodes in the graph (keys of the adjacency dictionary)\n",
    "    for key in dict.keys():\n",
    "        # Check if any node has an empty list of neighbors (i.e., it's not connected to anything)\n",
    "        if len(dict[key]) < 1:  # If a node has no neighbors\n",
    "            return \"not-connected\"  # If a node is isolated, return \"not-connected\"\n",
    "    \n",
    "    # If the loop completes without finding an isolated node, the graph is connected\n",
    "    return \"connected\"  # Return \"connected\" if all nodes have at least one neighbor\n",
    "print(connected_graph(Adjacency_list))\n",
    "print(connected_graph({'ajay':[2,3],'adi':[]}))"
   ]
  },
  {
   "cell_type": "markdown",
   "id": "2a6a2777",
   "metadata": {},
   "source": [
    "6. Given a graph and a list of vertices, check if it forms a walk, or a trail or a path or none of these."
   ]
  },
  {
   "cell_type": "code",
   "execution_count": 141,
   "id": "5ea0ad90",
   "metadata": {},
   "outputs": [
    {
     "data": {
      "text/plain": [
       "'it is a walk'"
      ]
     },
     "execution_count": 141,
     "metadata": {},
     "output_type": "execute_result"
    }
   ],
   "source": [
    "def walktrailpath(adj_dict, lst):\n",
    "    visited_node = []  # List to keep track of visited nodes\n",
    "    visited_edge = []  # List to keep track of visited edges\n",
    "    \n",
    "    # Loop through the list of nodes (lst) except the last one\n",
    "    for i in range(len(lst) - 1):\n",
    "        currentnode = lst[i]  # The current node\n",
    "        nextnode = lst[i + 1]  # The next node in the path\n",
    "        \n",
    "        if currentnode in adj_dict:  # Check if the current node exists in the adjacency dictionary\n",
    "            if nextnode not in adj_dict[currentnode]:  # If the next node is not a neighbor of the current node\n",
    "                return \"None of these\"  # If the next node is not connected, return \"None of these\"\n",
    "        else:\n",
    "            return \"None of these\"  # If the current node doesn't exist in the graph, return \"None of these\"\n",
    "        \n",
    "        # Check if the edge between currentnode and nextnode hasn't been visited yet\n",
    "        if (currentnode, nextnode) not in visited_edge and (nextnode, currentnode) not in visited_edge:\n",
    "            visited_edge.append((currentnode, nextnode))  # Add the edge to the visited_edge list\n",
    "        \n",
    "        # Mark currentnode as visited if it hasn't been visited already\n",
    "        if currentnode not in visited_node:\n",
    "            visited_node.append(currentnode)\n",
    "        \n",
    "        # Mark nextnode as visited if it hasn't been visited already\n",
    "        if nextnode not in visited_node:\n",
    "            visited_node.append(nextnode)\n",
    "    \n",
    "    unique = []  # List to store unique nodes (to check for repeated nodes in the path)\n",
    "    \n",
    "    # Check if all nodes in the list are unique (i.e., no repetitions)\n",
    "    for i in lst:\n",
    "        if i not in unique:  # If the node is not in the unique list\n",
    "            unique.append(i)  # Add it to the unique list\n",
    "        else:\n",
    "            break  # If a repeated node is found, break the loop\n",
    "    \n",
    "    total_edges = len(lst) - 1  # Total number of edges in the path (len(lst) - 1)\n",
    "\n",
    "    # If all the edges are visited and all nodes are unique, it's a valid path\n",
    "    if len(visited_edge) == total_edges and len(unique) == len(lst):\n",
    "        return \"it is a path\"  # It's a valid path if the conditions are met\n",
    "    \n",
    "    # If all the edges are visited but some nodes are repeated, it's a trail\n",
    "    elif len(visited_edge) == total_edges:\n",
    "        return \"it is a trail\"  # It's a trail if only edges are unique, but nodes can be repeated\n",
    "    \n",
    "    # Otherwise, if neither of the above conditions is true, it's a walk\n",
    "    else:\n",
    "        return \"it is a walk\"  # It's a walk if neither of the conditions is met\n",
    "\n",
    "# Example usage with a sample graph and a list of nodes:\n",
    "walktrailpath({\n",
    "    'delhi': ['up'],\n",
    "    'up': ['delhi', 'mp'],\n",
    "    'mp': ['up']\n",
    "}, ['delhi', 'up', 'mp', 'up'])\n"
   ]
  },
  {
   "cell_type": "markdown",
   "id": "d8771967",
   "metadata": {},
   "source": [
    "7. Check if a given graph is a tree."
   ]
  },
  {
   "cell_type": "code",
   "execution_count": 142,
   "id": "679c83b3",
   "metadata": {},
   "outputs": [
    {
     "name": "stdout",
     "output_type": "stream",
     "text": [
      "it's a tree\n"
     ]
    }
   ],
   "source": [
    "import random  # Import the random module (though not used in this specific code)\n",
    "\n",
    "def checktree(adj_dict):\n",
    "    visited_node = []  # List to store the nodes that have been visited\n",
    "    visited_edge = []  # List to store the edges that have been visited\n",
    "\n",
    "    # Loop through all nodes (keys) in the adjacency dictionary (graph)\n",
    "    for key in adj_dict.keys():\n",
    "        currentnd = key  # The current node\n",
    "        # Loop through all the neighbors of the current node\n",
    "        for j in adj_dict[key]:\n",
    "            nxtnd = j  # The neighbor node\n",
    "            if currentnd not in visited_node:  # If the current node is not visited yet\n",
    "                visited_node.append(currentnd)  # Mark it as visited by adding it to visited_node list\n",
    "            # Check if the edge between the current node and the neighbor is not already visited\n",
    "            if (currentnd, nxtnd) not in visited_edge and (nxtnd, currentnd) not in visited_edge:\n",
    "                visited_edge.append((currentnd, nxtnd))  # Add the edge to the visited_edge list\n",
    "\n",
    "    # Check if the number of visited nodes is equal to the total nodes in the graph\n",
    "    # And if the number of edges is equal to number of nodes - 1 (for a valid tree)\n",
    "    if len(visited_node) == len(adj_dict) and len(visited_edge) == (len(visited_node) - 1):\n",
    "        print(\"it's a tree\")  # If it's a valid tree, print this message\n",
    "    elif len(adj_dict) == 1:  # If there is only one node in the graph, it's a valid tree (edge case)\n",
    "        print(\"it's a tree\")  # A single node is also considered a tree\n",
    "    else:\n",
    "        print(\"it's not a tree\")  # Otherwise, it’s not a tree\n",
    "\n",
    "# Example call to the function with the adjacency list\n",
    "checktree({\n",
    "    'A': ['B'],\n",
    "    'B': ['A', 'C'],\n",
    "    'C': ['B', 'D'],\n",
    "    'D': ['C', 'E'],\n",
    "    'E': ['D']\n",
    "})\n"
   ]
  },
  {
   "cell_type": "markdown",
   "id": "34e70b98",
   "metadata": {},
   "source": [
    "8. Given a connected cyclic graph, find its spanning tree."
   ]
  },
  {
   "cell_type": "code",
   "execution_count": 143,
   "id": "f96cec14",
   "metadata": {},
   "outputs": [
    {
     "data": {
      "text/plain": [
       "[('E', 'C'), ('C', 'A'), ('A', 'B'), ('B', 'D')]"
      ]
     },
     "execution_count": 143,
     "metadata": {},
     "output_type": "execute_result"
    }
   ],
   "source": [
    "import random  # Import the random module to select a random starting node\n",
    "\n",
    "def find_spanning_tree(graph):\n",
    "    visited = []  # List to keep track of visited nodes\n",
    "    spanning_tree_edges = []  # List to store the edges of the spanning tree\n",
    "\n",
    "    def dfs(node):  # Define the DFS function to visit nodes\n",
    "        visited.append(node)  # Mark the current node as visited\n",
    "        for neighbor in graph[node]:  # Go through each neighbor of the current node\n",
    "            if neighbor not in visited:  # If the neighbor hasn't been visited yet\n",
    "                spanning_tree_edges.append((node, neighbor))  # Add the edge to the spanning tree\n",
    "                dfs(neighbor)  # Recursively call DFS on the neighbor\n",
    "\n",
    "    # Start DFS from any node (assuming the graph is connected)\n",
    "    keylst = []  # Create an empty list to store all the nodes (keys) of the graph\n",
    "    for key in graph.keys():  # Loop through each node in the graph\n",
    "        keylst.append(key)  # Add the node to the list\n",
    "    start_node = random.choice(keylst)  # Randomly choose a starting node from the list\n",
    "    dfs(start_node)  # Call the DFS function to start traversing from the random node\n",
    "    return spanning_tree_edges  # Return the list of edges that form the spanning tree\n",
    "\n",
    "# Example usage with a sample graph:\n",
    "find_spanning_tree({\n",
    "    'A': ['B', 'C'],  # A connects to B and C\n",
    "    'B': ['A', 'C', 'D'],  # B connects to A, C, and D\n",
    "    'C': ['A', 'B', 'E'],  # C connects to A, B, and E\n",
    "    'D': ['B'],  # D connects to B\n",
    "    'E': ['C']  # E connects to C\n",
    "})"
   ]
  },
  {
   "cell_type": "markdown",
   "id": "177899fd",
   "metadata": {},
   "source": [
    "9. Given a tree, find the number of leaf nodes."
   ]
  },
  {
   "cell_type": "code",
   "execution_count": 144,
   "id": "2e587234",
   "metadata": {},
   "outputs": [
    {
     "name": "stdout",
     "output_type": "stream",
     "text": [
      "number of leafnodes is: 4\n"
     ]
    }
   ],
   "source": [
    "# This function counts how many leaf nodes are there in the tree.\n",
    "# A leaf node is a node that has only 1 neighbor (it doesn't have children).\n",
    "\n",
    "def leafnode(Adj_lst_tree):\n",
    "    # Start with count 0\n",
    "    count = 0\n",
    "    for key in Adj_lst_tree.keys(): # Loop through all nodes in the tree (graph)\n",
    "        # Check if the current node has only 1 neighbor (i.e., it's a leaf node)\n",
    "        if len(Adj_lst_tree[key]) == 1:\n",
    "            # If it's a leaf node, add 1 to the count\n",
    "            count += 1    \n",
    "    print(\"number of leafnodes is:\", count) # Print the total number of leaf nodes\n",
    "# Node:- This code will work only for undirected graph. not for directed\n",
    "leafnode({\n",
    "    'A': ['B'],         # A has 1 child (B), so it's not a leaf node.\n",
    "    'B': ['A', 'C'],    # B has 2 children (A, C), so it's not a leaf node.\n",
    "    'C': ['B'],         # C has 1 child (B), so it is a leaf node.\n",
    "    'D': ['B'],         # D has 1 child (B), so it is a leaf node.\n",
    "    'E': ['B']          # E has 1 child (B), so it is a leaf node.\n",
    "})\n"
   ]
  },
  {
   "cell_type": "markdown",
   "id": "1173fb56",
   "metadata": {},
   "source": [
    "10. Given a tree, check if it's a binary tree."
   ]
  },
  {
   "cell_type": "code",
   "execution_count": 145,
   "id": "4ecbd714",
   "metadata": {},
   "outputs": [
    {
     "data": {
      "text/plain": [
       "\"yes, it's a binary tree\""
      ]
     },
     "execution_count": 145,
     "metadata": {},
     "output_type": "execute_result"
    }
   ],
   "source": [
    "# This function checks if a tree is a binary tree or not.\n",
    "# A binary tree has at most 2 children for every node.\n",
    "\n",
    "def Checkbinary(Adj_lst_tree):\n",
    "    # Loop through all the nodes (keys) in the graph (tree)\n",
    "    for key in Adj_lst_tree.keys():\n",
    "        # If any node has more than 2 neighbors (children), it's not a binary tree\n",
    "        if len(Adj_lst_tree[key]) > 3:\n",
    "            return (\"it's not a binary tree\")\n",
    "    \n",
    "    # If no node has more than 2 children, it's a binary tree\n",
    "    return (\"yes, it's a binary tree\")\n",
    "# Node:- This code will work only for undirected graph. not for directed\n",
    "Checkbinary({\n",
    "    'A': ['B', 'C'],         # A has 2 children (B, C)\n",
    "    'B': ['A', 'D', 'E'],     # B has 3 children (A, D, E) --> This breaks binary tree rule\n",
    "    'C': ['A'],              # C has 1 child (A)\n",
    "    'D': ['B'],              # D has 1 child (B)\n",
    "    'E': ['B']               # E has 1 child (B)\n",
    "})"
   ]
  },
  {
   "cell_type": "markdown",
   "id": "30e07a66",
   "metadata": {},
   "source": [
    "11. Given a tree, find its height."
   ]
  },
  {
   "cell_type": "code",
   "execution_count": 146,
   "id": "d42a681f",
   "metadata": {},
   "outputs": [
    {
     "data": {
      "text/plain": [
       "4"
      ]
     },
     "execution_count": 146,
     "metadata": {},
     "output_type": "execute_result"
    }
   ],
   "source": [
    "def FindHeight(graph):\n",
    "    # Create a list to keep track of visited nodes (so we don’t visit the same node again)\n",
    "    visited = []\n",
    "\n",
    "    # Create a queue to store nodes and their current level (depth)\n",
    "    queue = []\n",
    "\n",
    "    # Create a list of all nodes (keys) from the graph and pick the first one to start from\n",
    "    keylst = []\n",
    "    for key in graph.keys():\n",
    "        keylst.append(key)\n",
    "    \n",
    "    # Choose the first node as the start node\n",
    "    startnode = keylst[0]\n",
    "\n",
    "    # Add the start node to the queue with depth 0\n",
    "    queue.append((startnode, 0))\n",
    "\n",
    "    # Mark the start node as visited\n",
    "    visited.append(startnode)\n",
    "\n",
    "    # Set the height to 0 initially\n",
    "    height = 0\n",
    "\n",
    "    # While there are still nodes in the queue to process\n",
    "    while len(queue) > 0:\n",
    "        # Get the first node in the queue and its current depth\n",
    "        current = queue[0]\n",
    "        node = current[0]\n",
    "        count = current[1]\n",
    "\n",
    "        # Remove the node from the queue as we're processing it\n",
    "        queue.pop(0)\n",
    "\n",
    "        # If the current depth is greater than the previous height, update height\n",
    "        if count > height:\n",
    "            height = count\n",
    "        \n",
    "        # Go through all the neighbors (connected nodes) of the current node\n",
    "        for neighbor in graph[node]:\n",
    "            # If the neighbor has not been visited, visit it\n",
    "            if neighbor not in visited:\n",
    "                visited.append(neighbor)\n",
    "                # Add the neighbor to the queue with one more level (depth)\n",
    "                queue.append((neighbor, count + 1))\n",
    "\n",
    "    # Once all nodes are processed, return the maximum height found\n",
    "    return height\n",
    "FindHeight( {\n",
    "    'A': ['B'],\n",
    "    'B': ['A', 'C'],\n",
    "    'C': ['B', 'D'],\n",
    "    'D': ['C', 'E'],\n",
    "    'E': ['D']\n",
    "})"
   ]
  },
  {
   "cell_type": "markdown",
   "id": "8a3eb5c4",
   "metadata": {},
   "source": [
    "12. Given a tree find it's depth"
   ]
  },
  {
   "cell_type": "code",
   "execution_count": 147,
   "id": "b1fccdfc",
   "metadata": {},
   "outputs": [
    {
     "data": {
      "text/plain": [
       "2"
      ]
     },
     "execution_count": 147,
     "metadata": {},
     "output_type": "execute_result"
    }
   ],
   "source": [
    "def FindDepth(graph):\n",
    "    # List to keep track of visited nodes to avoid revisiting\n",
    "    visited = []\n",
    "    \n",
    "    # Queue to store nodes and their current depth\n",
    "    queue = []\n",
    "    \n",
    "    # Create a list of all keys (nodes) in the graph and pick the first one as the start node\n",
    "    keylst = []\n",
    "    for key in graph.keys():\n",
    "        keylst.append(key)\n",
    "    startnode = keylst[0]\n",
    "\n",
    "    # Add the start node to the queue with depth 0\n",
    "    queue.append((startnode, 0))  # (node, depth)\n",
    "    \n",
    "    # Mark the start node as visited\n",
    "    visited.append(startnode)\n",
    "    \n",
    "    # Variable to keep track of the maximum depth found\n",
    "    depth = 0\n",
    "\n",
    "    # Continue until there are no more nodes to visit in the queue\n",
    "    while len(queue) > 0:\n",
    "        # Get the first node and its current depth from the queue\n",
    "        current = queue[0]\n",
    "        node = current[0]\n",
    "        count = current[1]\n",
    "        \n",
    "        # Remove the current node from the queue since we're processing it\n",
    "        queue.pop(0)\n",
    "\n",
    "        # If this node's depth is greater than the previous max depth, update depth\n",
    "        if count > depth:\n",
    "            depth = count\n",
    "\n",
    "        # Go through each neighbor (connected node) of the current node\n",
    "        for neighbor in graph[node]:\n",
    "            # If the neighbor hasn't been visited yet, visit it\n",
    "            if neighbor not in visited:\n",
    "                visited.append(neighbor)\n",
    "                # Add the neighbor to the queue with depth one level deeper\n",
    "                queue.append((neighbor, count + 1))\n",
    "\n",
    "    # After visiting all nodes, return the maximum depth found\n",
    "    return depth\n",
    "FindDepth(Adjacency_list)"
   ]
  }
 ],
 "metadata": {
  "kernelspec": {
   "display_name": "Python 3",
   "language": "python",
   "name": "python3"
  },
  "language_info": {
   "codemirror_mode": {
    "name": "ipython",
    "version": 3
   },
   "file_extension": ".py",
   "mimetype": "text/x-python",
   "name": "python",
   "nbconvert_exporter": "python",
   "pygments_lexer": "ipython3",
   "version": "3.13.2"
  }
 },
 "nbformat": 4,
 "nbformat_minor": 5
}
